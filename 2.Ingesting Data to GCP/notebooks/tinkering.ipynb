{
 "cells": [
  {
   "cell_type": "code",
   "execution_count": 1,
   "id": "515a5cb5",
   "metadata": {},
   "outputs": [],
   "source": [
    "# Posts-questions and Posts-answers \"schema\"\n",
    "from pyspark.sql.functions import col\n",
    "from pyspark.sql import types\n",
    "def implement_schema(df, table):\n",
    "    if table in ['posts_questions', 'posts_answers']:\n",
    "        df2 = df.withColumn('id',col('id').cast(types.IntegerType())) \\\n",
    "                .withColumn('title',col('title').cast(types.StringType())) \\\n",
    "                .withColumn('body',col('body').cast(types.StringType())) \\\n",
    "                .withColumn('accepted_answer_id',col('accepted_answer_id').cast(types.IntegerType())) \\\n",
    "                .withColumn('answer_count',col('answer_count').cast(types.IntegerType())) \\\n",
    "                .withColumn('comment_count',col('comment_count').cast(types.IntegerType())) \\\n",
    "                .withColumn('community_owned_date',col('community_owned_date').cast(types.TimestampType())) \\\n",
    "                .withColumn('creation_date',col('creation_date').cast(types.TimestampType())) \\\n",
    "                .withColumn('favorite_count',col('favorite_count').cast(types.IntegerType())) \\\n",
    "                .withColumn('last_activity_date',col('last_activity_date').cast(types.TimestampType())) \\\n",
    "                .withColumn('last_edit_date',col('last_edit_date').cast(types.TimestampType())) \\\n",
    "                .withColumn('last_editor_user_id',col('last_editor_user_id').cast(types.IntegerType())) \\\n",
    "                .withColumn('last_editor_display_name',col('last_editor_display_name').cast(types.StringType())) \\\n",
    "                .withColumn('owner_display_name',col('owner_display_name').cast(types.StringType())) \\\n",
    "                .withColumn('owner_user_id',col('owner_user_id').cast(types.IntegerType())) \\\n",
    "                .withColumn('parent_id',col('parent_id').cast(types.IntegerType())) \\\n",
    "                .withColumn('post_type_id',col('post_type_id').cast(types.IntegerType())) \\\n",
    "                .withColumn('score',col('score').cast(types.IntegerType())) \\\n",
    "                .withColumn('tags',col('tags').cast(types.StringType())) \\\n",
    "                .withColumn('view_count',col('view_count').cast(types.IntegerType())) \\\n",
    "                .withColumn('group_by_date',col('group_by_date').cast(types.TimestampType()))\n",
    "        \n",
    "    if table == 'badges':\n",
    "        df2 = df.withColumn('id',col('id').cast(types.IntegerType())) \\\n",
    "                .withColumn('name',col('name').cast(types.StringType())) \\\n",
    "                .withColumn('date',col('date').cast(types.TimestampType())) \\\n",
    "                .withColumn('user_id',col('user_id').cast(types.IntegerType())) \\\n",
    "                .withColumn('class',col('class').cast(types.IntegerType())) \\\n",
    "                .withColumn('tag_based',col('tag_based').cast(types.BooleanType(),)) \\\n",
    "                .withColumn('group_by_date',col('group_by_date').cast(types.TimestampType())) \\\n",
    "        \n",
    "    if table == 'users':\n",
    "        df2 = df.withColumn('id',col('id').cast(types.IntegerType())) \\\n",
    "                .withColumn('display_name',col('display_name').cast(types.StringType())) \\\n",
    "                .withColumn('about_me',col('about_me').cast(types.StringType())) \\\n",
    "                .withColumn('age',col('age').cast(types.IntegerType())) \\\n",
    "                .withColumn('creation_date',col('creation_date').cast(types.TimestampType())) \\\n",
    "                .withColumn('last_access_date',col('last_access_date').cast(types.TimestampType(),)) \\\n",
    "                .withColumn('location',col('location').cast(types.StringType())) \\\n",
    "                .withColumn('reputation',col('reputation').cast(types.IntegerType())) \\\n",
    "                .withColumn('up_votes',col('up_votes').cast(types.IntegerType())) \\\n",
    "                .withColumn('down_votes',col('down_votes').cast(types.IntegerType())) \\\n",
    "                .withColumn('views',col('views').cast(types.IntegerType())) \\\n",
    "                .withColumn('profile_image_url',col('profile_image_url').cast(types.StringType(),)) \\\n",
    "                .withColumn('website_url',col('website_url').cast(types.StringType())) \\\n",
    "                .withColumn('group_by_date',col('group_by_date').cast(types.TimestampType())) \\\n",
    "            \n",
    "    return df2"
   ]
  },
  {
   "cell_type": "code",
   "execution_count": 2,
   "id": "44ef1b64",
   "metadata": {
    "scrolled": false
   },
   "outputs": [
    {
     "name": "stderr",
     "output_type": "stream",
     "text": [
      "WARNING: An illegal reflective access operation has occurred\n",
      "WARNING: Illegal reflective access by org.apache.spark.unsafe.Platform (file:/opt/airflow/spark/spark-3.2.1-bin-hadoop3.2/jars/spark-unsafe_2.12-3.2.1.jar) to constructor java.nio.DirectByteBuffer(long,int)\n",
      "WARNING: Please consider reporting this to the maintainers of org.apache.spark.unsafe.Platform\n",
      "WARNING: Use --illegal-access=warn to enable warnings of further illegal reflective access operations\n",
      "WARNING: All illegal access operations will be denied in a future release\n",
      "Using Spark's default log4j profile: org/apache/spark/log4j-defaults.properties\n",
      "Setting default log level to \"WARN\".\n",
      "To adjust logging level use sc.setLogLevel(newLevel). For SparkR, use setLogLevel(newLevel).\n",
      "22/04/05 21:05:40 WARN NativeCodeLoader: Unable to load native-hadoop library for your platform... using builtin-java classes where applicable\n"
     ]
    }
   ],
   "source": [
    "from pyspark.sql import SparkSession\n",
    "import os\n",
    "\n",
    "spark = SparkSession.builder.master(\"local[*]\")\\\n",
    "        .appName('Modidy Schema') \\\n",
    "        .getOrCreate()\n",
    "\n",
    "spark._jsc.hadoopConfiguration() \\\n",
    "    .set(\"google.cloud.auth.service.account.json.keyfile\",\"/.google/credentials/google_credentials_project.json\")\n",
    "\n",
    "\n",
    "BUCKET = os.getenv('GCP_GCS_BUCKET')\n",
    "\n",
    "#This path has to be dynamically defined for each table\n",
    "def transform_parquet(table, file_date='*'):\n",
    "    path=f\"gs://{BUCKET}/parquet/{table}-{file_date}.parquet\"\n",
    "\n",
    "    df = spark.read.parquet(path, header=True)\n",
    "    df = implement_schema(df, table)\n",
    "    \n",
    "    df.repartition(4).write.parquet\n",
    "    df.repartition(4).write.format(\"parquet\").save(f\"gs://{BUCKET}/BigQuery/{table}-{file_date}\")"
   ]
  },
  {
   "cell_type": "code",
   "execution_count": 3,
   "id": "2a1d770b",
   "metadata": {},
   "outputs": [
    {
     "name": "stdout",
     "output_type": "stream",
     "text": [
      "WARNING: An illegal reflective access operation has occurred\n",
      "WARNING: Illegal reflective access by org.apache.spark.unsafe.Platform (file:/opt/airflow/spark/spark-3.2.1-bin-hadoop3.2/jars/spark-unsafe_2.12-3.2.1.jar) to constructor java.nio.DirectByteBuffer(long,int)\n",
      "WARNING: Please consider reporting this to the maintainers of org.apache.spark.unsafe.Platform\n",
      "WARNING: Use --illegal-access=warn to enable warnings of further illegal reflective access operations\n",
      "WARNING: All illegal access operations will be denied in a future release\n",
      "22/04/05 21:06:36 WARN NativeCodeLoader: Unable to load native-hadoop library for your platform... using builtin-java classes where applicable\n",
      "Using Spark's default log4j profile: org/apache/spark/log4j-defaults.properties\n",
      "Setting default log level to \"WARN\".\n",
      "To adjust logging level use sc.setLogLevel(newLevel). For SparkR, use setLogLevel(newLevel).\n",
      "22/04/05 21:06:39 WARN Utils: Service 'SparkUI' could not bind on port 4040. Attempting port 4041.\n",
      "                                                                                \r"
     ]
    }
   ],
   "source": [
    "!python3 pyspark_parquet_transformation.py 'badges' '2008-09'"
   ]
  }
 ],
 "metadata": {
  "kernelspec": {
   "display_name": "Python 3 (ipykernel)",
   "language": "python",
   "name": "python3"
  },
  "language_info": {
   "codemirror_mode": {
    "name": "ipython",
    "version": 3
   },
   "file_extension": ".py",
   "mimetype": "text/x-python",
   "name": "python",
   "nbconvert_exporter": "python",
   "pygments_lexer": "ipython3",
   "version": "3.7.13"
  }
 },
 "nbformat": 4,
 "nbformat_minor": 5
}
