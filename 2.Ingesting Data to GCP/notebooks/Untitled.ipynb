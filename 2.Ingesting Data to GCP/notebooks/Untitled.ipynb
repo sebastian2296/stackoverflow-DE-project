{
 "cells": [
  {
   "cell_type": "code",
   "execution_count": 1,
   "id": "c952927a-77c1-44ee-8bec-349191a6b575",
   "metadata": {},
   "outputs": [],
   "source": [
    "from pyspark.sql import SparkSession"
   ]
  },
  {
   "cell_type": "code",
   "execution_count": 2,
   "id": "76496f93-6b65-4ca3-b884-c297a12a72fa",
   "metadata": {},
   "outputs": [],
   "source": [
    "spark = SparkSession.builder.appName('Test').getOrCreate() "
   ]
  },
  {
   "cell_type": "code",
   "execution_count": 6,
   "id": "1f539ba6-9464-4c1e-aee0-12798391d667",
   "metadata": {},
   "outputs": [
    {
     "name": "stdout",
     "output_type": "stream",
     "text": [
      "--2022-03-22 22:59:31--  https://raw.githubusercontent.com/apache/airflow/main/airflow/config_templates/default_airflow.cfg\n",
      "Resolving raw.githubusercontent.com (raw.githubusercontent.com)... 185.199.109.133, 185.199.108.133, 185.199.111.133, ...\n",
      "Connecting to raw.githubusercontent.com (raw.githubusercontent.com)|185.199.109.133|:443... connected.\n",
      "HTTP request sent, awaiting response... 200 OK\n",
      "Length: 49291 (48K) [text/plain]\n",
      "Saving to: ‘airflow.cfg’\n",
      "\n",
      "airflow.cfg         100%[===================>]  48.14K  --.-KB/s    in 0.1s    \n",
      "\n",
      "2022-03-22 22:59:32 (353 KB/s) - ‘airflow.cfg’ saved [49291/49291]\n",
      "\n"
     ]
    }
   ],
   "source": [
    "#!wget https://raw.githubusercontent.com/apache/airflow/main/airflow/config_templates/default_airflow.cfg -O airflow.cfg"
   ]
  },
  {
   "cell_type": "code",
   "execution_count": 3,
   "id": "ee8588e5-0e89-4072-99f0-05566d0b5477",
   "metadata": {},
   "outputs": [
    {
     "name": "stdout",
     "output_type": "stream",
     "text": [
      "Lines with a: 810, lines with b: 408\n"
     ]
    }
   ],
   "source": [
    "# Set file\n",
    "logFile = '/home/jovyan/work/notebooks/airflow.cfg'\n",
    "# Read file\n",
    "logData = spark.sparkContext.textFile(logFile).cache()\n",
    "# Get lines with A\n",
    "numAs = logData.filter(lambda s: 'a' in s).count()\n",
    "# Get lines with B \n",
    "numBs = logData.filter(lambda s: 'b' in s).count()\n",
    "# Print result\n",
    "print('Lines with a: {}, lines with b: {}'.format(numAs, numBs))"
   ]
  }
 ],
 "metadata": {
  "kernelspec": {
   "display_name": "Python 3 (ipykernel)",
   "language": "python",
   "name": "python3"
  },
  "language_info": {
   "codemirror_mode": {
    "name": "ipython",
    "version": 3
   },
   "file_extension": ".py",
   "mimetype": "text/x-python",
   "name": "python",
   "nbconvert_exporter": "python",
   "pygments_lexer": "ipython3",
   "version": "3.9.10"
  }
 },
 "nbformat": 4,
 "nbformat_minor": 5
}
