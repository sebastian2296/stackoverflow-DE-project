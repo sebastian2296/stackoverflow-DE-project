{
 "cells": [
  {
   "cell_type": "code",
   "execution_count": 1,
   "id": "c952927a-77c1-44ee-8bec-349191a6b575",
   "metadata": {},
   "outputs": [],
   "source": [
    "from pyspark.sql import SparkSession"
   ]
  },
  {
   "cell_type": "code",
   "execution_count": 2,
   "id": "76496f93-6b65-4ca3-b884-c297a12a72fa",
   "metadata": {},
   "outputs": [],
   "source": [
    "spark = SparkSession.builder.appName('Test').getOrCreate() "
   ]
  },
  {
   "cell_type": "code",
   "execution_count": 6,
   "id": "1f539ba6-9464-4c1e-aee0-12798391d667",
   "metadata": {},
   "outputs": [
    {
     "name": "stdout",
     "output_type": "stream",
     "text": [
      "--2022-03-22 22:59:31--  https://raw.githubusercontent.com/apache/airflow/main/airflow/config_templates/default_airflow.cfg\n",
      "Resolving raw.githubusercontent.com (raw.githubusercontent.com)... 185.199.109.133, 185.199.108.133, 185.199.111.133, ...\n",
      "Connecting to raw.githubusercontent.com (raw.githubusercontent.com)|185.199.109.133|:443... connected.\n",
      "HTTP request sent, awaiting response... 200 OK\n",
      "Length: 49291 (48K) [text/plain]\n",
      "Saving to: ‘airflow.cfg’\n",
      "\n",
      "airflow.cfg         100%[===================>]  48.14K  --.-KB/s    in 0.1s    \n",
      "\n",
      "2022-03-22 22:59:32 (353 KB/s) - ‘airflow.cfg’ saved [49291/49291]\n",
      "\n"
     ]
    }
   ],
   "source": [
    "#!wget https://raw.githubusercontent.com/apache/airflow/main/airflow/config_templates/default_airflow.cfg -O airflow.cfg"
   ]
  },
  {
   "cell_type": "code",
   "execution_count": 3,
   "id": "ee8588e5-0e89-4072-99f0-05566d0b5477",
   "metadata": {},
   "outputs": [
    {
     "name": "stdout",
     "output_type": "stream",
     "text": [
      "Lines with a: 810, lines with b: 408\n"
     ]
    }
   ],
   "source": [
    "# Set file\n",
    "logFile = '/home/jovyan/work/notebooks/airflow.cfg'\n",
    "# Read file\n",
    "logData = spark.sparkContext.textFile(logFile).cache()\n",
    "# Get lines with A\n",
    "numAs = logData.filter(lambda s: 'a' in s).count()\n",
    "# Get lines with B \n",
    "numBs = logData.filter(lambda s: 'b' in s).count()\n",
    "# Print result\n",
    "print('Lines with a: {}, lines with b: {}'.format(numAs, numBs))"
   ]
  },
  {
   "cell_type": "code",
   "execution_count": 46,
   "id": "082fd3d0-06cf-49d3-ab52-637d42850985",
   "metadata": {},
   "outputs": [
    {
     "data": {
      "text/plain": [
       "(31243, 21)"
      ]
     },
     "execution_count": 46,
     "metadata": {},
     "output_type": "execute_result"
    }
   ],
   "source": [
    "df = pd.read_csv(\"../data/posts_questions-2022-03.csv\")\n",
    "df.shape"
   ]
  },
  {
   "cell_type": "code",
   "execution_count": 41,
   "id": "ebfbb860-92f3-4319-afe0-c63ecfdefefc",
   "metadata": {},
   "outputs": [],
   "source": [
    "df.to_parquet('../data/test.parquet')"
   ]
  },
  {
   "cell_type": "code",
   "execution_count": 38,
   "id": "3792618f-d5cb-42cf-999b-ee4cac81c206",
   "metadata": {},
   "outputs": [],
   "source": [
    "import csv"
   ]
  },
  {
   "cell_type": "code",
   "execution_count": 42,
   "id": "e589ac48-1e0a-4cd2-b2fe-3834ad58691a",
   "metadata": {},
   "outputs": [],
   "source": [
    "import pyarrow as pa"
   ]
  },
  {
   "cell_type": "code",
   "execution_count": 43,
   "id": "6d241e45-5d38-4f0b-915a-eca9baeb5cbb",
   "metadata": {},
   "outputs": [],
   "source": [
    "df2 = spark.read.parquet(\"../data/test.parquet\")"
   ]
  },
  {
   "cell_type": "code",
   "execution_count": 48,
   "id": "5c522d27-fbcd-4dd8-b190-c245742cf771",
   "metadata": {},
   "outputs": [
    {
     "name": "stdout",
     "output_type": "stream",
     "text": [
      "root\n",
      " |-- id: long (nullable = true)\n",
      " |-- title: string (nullable = true)\n",
      " |-- body: string (nullable = true)\n",
      " |-- accepted_answer_id: double (nullable = true)\n",
      " |-- answer_count: long (nullable = true)\n",
      " |-- comment_count: long (nullable = true)\n",
      " |-- community_owned_date: double (nullable = true)\n",
      " |-- creation_date: string (nullable = true)\n",
      " |-- favorite_count: double (nullable = true)\n",
      " |-- last_activity_date: string (nullable = true)\n",
      " |-- last_edit_date: string (nullable = true)\n",
      " |-- last_editor_display_name: string (nullable = true)\n",
      " |-- last_editor_user_id: double (nullable = true)\n",
      " |-- owner_display_name: string (nullable = true)\n",
      " |-- owner_user_id: double (nullable = true)\n",
      " |-- parent_id: double (nullable = true)\n",
      " |-- post_type_id: long (nullable = true)\n",
      " |-- score: long (nullable = true)\n",
      " |-- tags: string (nullable = true)\n",
      " |-- view_count: long (nullable = true)\n",
      " |-- group_by_date: string (nullable = true)\n",
      "\n"
     ]
    }
   ],
   "source": [
    "df2.printSchema()"
   ]
  },
  {
   "cell_type": "code",
   "execution_count": 49,
   "id": "e006f4e8-ad05-4232-9ae6-a221c8897fae",
   "metadata": {},
   "outputs": [
    {
     "data": {
      "text/html": [
       "<div>\n",
       "<style scoped>\n",
       "    .dataframe tbody tr th:only-of-type {\n",
       "        vertical-align: middle;\n",
       "    }\n",
       "\n",
       "    .dataframe tbody tr th {\n",
       "        vertical-align: top;\n",
       "    }\n",
       "\n",
       "    .dataframe thead th {\n",
       "        text-align: right;\n",
       "    }\n",
       "</style>\n",
       "<table border=\"1\" class=\"dataframe\">\n",
       "  <thead>\n",
       "    <tr style=\"text-align: right;\">\n",
       "      <th></th>\n",
       "      <th>id</th>\n",
       "      <th>title</th>\n",
       "      <th>body</th>\n",
       "      <th>accepted_answer_id</th>\n",
       "      <th>answer_count</th>\n",
       "      <th>comment_count</th>\n",
       "      <th>community_owned_date</th>\n",
       "      <th>creation_date</th>\n",
       "      <th>favorite_count</th>\n",
       "      <th>last_activity_date</th>\n",
       "      <th>...</th>\n",
       "      <th>last_editor_display_name</th>\n",
       "      <th>last_editor_user_id</th>\n",
       "      <th>owner_display_name</th>\n",
       "      <th>owner_user_id</th>\n",
       "      <th>parent_id</th>\n",
       "      <th>post_type_id</th>\n",
       "      <th>score</th>\n",
       "      <th>tags</th>\n",
       "      <th>view_count</th>\n",
       "      <th>group_by_date</th>\n",
       "    </tr>\n",
       "  </thead>\n",
       "  <tbody>\n",
       "    <tr>\n",
       "      <th>0</th>\n",
       "      <td>71306545</td>\n",
       "      <td>Trusted domains not working for HERE Maps App</td>\n",
       "      <td>&lt;p&gt;In the HERE platform, I added an App under ...</td>\n",
       "      <td>NaN</td>\n",
       "      <td>0</td>\n",
       "      <td>0</td>\n",
       "      <td>NaN</td>\n",
       "      <td>2022-03-01 09:48:32.257 UTC</td>\n",
       "      <td>NaN</td>\n",
       "      <td>2022-03-01 09:48:32.257 UTC</td>\n",
       "      <td>...</td>\n",
       "      <td>None</td>\n",
       "      <td>NaN</td>\n",
       "      <td>None</td>\n",
       "      <td>4022261.0</td>\n",
       "      <td>NaN</td>\n",
       "      <td>1</td>\n",
       "      <td>0</td>\n",
       "      <td>here-api</td>\n",
       "      <td>2</td>\n",
       "      <td>2022-03</td>\n",
       "    </tr>\n",
       "    <tr>\n",
       "      <th>1</th>\n",
       "      <td>71306591</td>\n",
       "      <td>Can't add accessibility identifier for HereMap...</td>\n",
       "      <td>&lt;p&gt;I am writing UITest cases for HereMapSDK el...</td>\n",
       "      <td>NaN</td>\n",
       "      <td>0</td>\n",
       "      <td>0</td>\n",
       "      <td>NaN</td>\n",
       "      <td>2022-03-01 09:53:08.397 UTC</td>\n",
       "      <td>NaN</td>\n",
       "      <td>2022-03-01 09:53:08.397 UTC</td>\n",
       "      <td>...</td>\n",
       "      <td>None</td>\n",
       "      <td>NaN</td>\n",
       "      <td>None</td>\n",
       "      <td>4635542.0</td>\n",
       "      <td>NaN</td>\n",
       "      <td>1</td>\n",
       "      <td>0</td>\n",
       "      <td>ios|swift|here-api|heremaps|heremaps-ios-sdk</td>\n",
       "      <td>2</td>\n",
       "      <td>2022-03</td>\n",
       "    </tr>\n",
       "    <tr>\n",
       "      <th>2</th>\n",
       "      <td>71311385</td>\n",
       "      <td>Wordpress Elementor &amp; Crocoblock How to do a 9...</td>\n",
       "      <td>&lt;p&gt;I would like to build a 9x9 block slider se...</td>\n",
       "      <td>NaN</td>\n",
       "      <td>0</td>\n",
       "      <td>0</td>\n",
       "      <td>NaN</td>\n",
       "      <td>2022-03-01 16:08:14.41 UTC</td>\n",
       "      <td>NaN</td>\n",
       "      <td>2022-03-01 16:08:14.41 UTC</td>\n",
       "      <td>...</td>\n",
       "      <td>None</td>\n",
       "      <td>NaN</td>\n",
       "      <td>None</td>\n",
       "      <td>13554787.0</td>\n",
       "      <td>NaN</td>\n",
       "      <td>1</td>\n",
       "      <td>0</td>\n",
       "      <td>wordpress|elementor</td>\n",
       "      <td>2</td>\n",
       "      <td>2022-03</td>\n",
       "    </tr>\n",
       "    <tr>\n",
       "      <th>3</th>\n",
       "      <td>71312257</td>\n",
       "      <td>Download FSA map of Canada</td>\n",
       "      <td>&lt;p&gt;I am in the process of making a mapping too...</td>\n",
       "      <td>NaN</td>\n",
       "      <td>0</td>\n",
       "      <td>0</td>\n",
       "      <td>NaN</td>\n",
       "      <td>2022-03-01 17:15:24.74 UTC</td>\n",
       "      <td>NaN</td>\n",
       "      <td>2022-03-01 17:15:24.74 UTC</td>\n",
       "      <td>...</td>\n",
       "      <td>None</td>\n",
       "      <td>NaN</td>\n",
       "      <td>None</td>\n",
       "      <td>9677147.0</td>\n",
       "      <td>NaN</td>\n",
       "      <td>1</td>\n",
       "      <td>0</td>\n",
       "      <td>dictionary|geolocation|postal-code</td>\n",
       "      <td>2</td>\n",
       "      <td>2022-03</td>\n",
       "    </tr>\n",
       "    <tr>\n",
       "      <th>4</th>\n",
       "      <td>71314095</td>\n",
       "      <td>Iframe code cannot open mobile version of the ...</td>\n",
       "      <td>&lt;p&gt;Im using a fullscreen iframe of a site what...</td>\n",
       "      <td>NaN</td>\n",
       "      <td>0</td>\n",
       "      <td>0</td>\n",
       "      <td>NaN</td>\n",
       "      <td>2022-03-01 20:08:21.327 UTC</td>\n",
       "      <td>NaN</td>\n",
       "      <td>2022-03-01 20:08:21.327 UTC</td>\n",
       "      <td>...</td>\n",
       "      <td>None</td>\n",
       "      <td>NaN</td>\n",
       "      <td>None</td>\n",
       "      <td>18347298.0</td>\n",
       "      <td>NaN</td>\n",
       "      <td>1</td>\n",
       "      <td>0</td>\n",
       "      <td>iframe</td>\n",
       "      <td>2</td>\n",
       "      <td>2022-03</td>\n",
       "    </tr>\n",
       "  </tbody>\n",
       "</table>\n",
       "<p>5 rows × 21 columns</p>\n",
       "</div>"
      ],
      "text/plain": [
       "         id                                              title  \\\n",
       "0  71306545      Trusted domains not working for HERE Maps App   \n",
       "1  71306591  Can't add accessibility identifier for HereMap...   \n",
       "2  71311385  Wordpress Elementor & Crocoblock How to do a 9...   \n",
       "3  71312257                         Download FSA map of Canada   \n",
       "4  71314095  Iframe code cannot open mobile version of the ...   \n",
       "\n",
       "                                                body  accepted_answer_id  \\\n",
       "0  <p>In the HERE platform, I added an App under ...                 NaN   \n",
       "1  <p>I am writing UITest cases for HereMapSDK el...                 NaN   \n",
       "2  <p>I would like to build a 9x9 block slider se...                 NaN   \n",
       "3  <p>I am in the process of making a mapping too...                 NaN   \n",
       "4  <p>Im using a fullscreen iframe of a site what...                 NaN   \n",
       "\n",
       "   answer_count  comment_count  community_owned_date  \\\n",
       "0             0              0                   NaN   \n",
       "1             0              0                   NaN   \n",
       "2             0              0                   NaN   \n",
       "3             0              0                   NaN   \n",
       "4             0              0                   NaN   \n",
       "\n",
       "                 creation_date  favorite_count           last_activity_date  \\\n",
       "0  2022-03-01 09:48:32.257 UTC             NaN  2022-03-01 09:48:32.257 UTC   \n",
       "1  2022-03-01 09:53:08.397 UTC             NaN  2022-03-01 09:53:08.397 UTC   \n",
       "2   2022-03-01 16:08:14.41 UTC             NaN   2022-03-01 16:08:14.41 UTC   \n",
       "3   2022-03-01 17:15:24.74 UTC             NaN   2022-03-01 17:15:24.74 UTC   \n",
       "4  2022-03-01 20:08:21.327 UTC             NaN  2022-03-01 20:08:21.327 UTC   \n",
       "\n",
       "   ... last_editor_display_name last_editor_user_id  owner_display_name  \\\n",
       "0  ...                     None                 NaN                None   \n",
       "1  ...                     None                 NaN                None   \n",
       "2  ...                     None                 NaN                None   \n",
       "3  ...                     None                 NaN                None   \n",
       "4  ...                     None                 NaN                None   \n",
       "\n",
       "  owner_user_id  parent_id  post_type_id  score  \\\n",
       "0     4022261.0        NaN             1      0   \n",
       "1     4635542.0        NaN             1      0   \n",
       "2    13554787.0        NaN             1      0   \n",
       "3     9677147.0        NaN             1      0   \n",
       "4    18347298.0        NaN             1      0   \n",
       "\n",
       "                                           tags view_count  group_by_date  \n",
       "0                                      here-api          2        2022-03  \n",
       "1  ios|swift|here-api|heremaps|heremaps-ios-sdk          2        2022-03  \n",
       "2                           wordpress|elementor          2        2022-03  \n",
       "3            dictionary|geolocation|postal-code          2        2022-03  \n",
       "4                                        iframe          2        2022-03  \n",
       "\n",
       "[5 rows x 21 columns]"
      ]
     },
     "execution_count": 49,
     "metadata": {},
     "output_type": "execute_result"
    }
   ],
   "source": [
    "s = pd.read_parquet('../data/test.parquet')\n",
    "s.head()"
   ]
  },
  {
   "cell_type": "code",
   "execution_count": 50,
   "id": "aa047ee4-cc23-4e6d-a6f7-916c3581920a",
   "metadata": {},
   "outputs": [
    {
     "data": {
      "text/plain": [
       "id                            int64\n",
       "title                        object\n",
       "body                         object\n",
       "accepted_answer_id          float64\n",
       "answer_count                  int64\n",
       "comment_count                 int64\n",
       "community_owned_date        float64\n",
       "creation_date                object\n",
       "favorite_count              float64\n",
       "last_activity_date           object\n",
       "last_edit_date               object\n",
       "last_editor_display_name     object\n",
       "last_editor_user_id         float64\n",
       "owner_display_name           object\n",
       "owner_user_id               float64\n",
       "parent_id                   float64\n",
       "post_type_id                  int64\n",
       "score                         int64\n",
       "tags                         object\n",
       "view_count                    int64\n",
       "group_by_date                object\n",
       "dtype: object"
      ]
     },
     "execution_count": 50,
     "metadata": {},
     "output_type": "execute_result"
    }
   ],
   "source": [
    "s.dtypes"
   ]
  }
 ],
 "metadata": {
  "kernelspec": {
   "display_name": "Python 3 (ipykernel)",
   "language": "python",
   "name": "python3"
  },
  "language_info": {
   "codemirror_mode": {
    "name": "ipython",
    "version": 3
   },
   "file_extension": ".py",
   "mimetype": "text/x-python",
   "name": "python",
   "nbconvert_exporter": "python",
   "pygments_lexer": "ipython3",
   "version": "3.9.10"
  }
 },
 "nbformat": 4,
 "nbformat_minor": 5
}
